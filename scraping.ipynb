{
 "cells": [
  {
   "cell_type": "code",
   "execution_count": 1,
   "metadata": {},
   "outputs": [],
   "source": [
    "from bs4 import BeautifulSoup\n",
    "import requests\n",
    "import pandas as pd\n",
    "import json"
   ]
  },
  {
   "cell_type": "code",
   "execution_count": 2,
   "metadata": {},
   "outputs": [],
   "source": [
    "url =\"https://www.tasnimnews.com/fa/archive?service=1&sub=-1&date=1400%2F05%2F15\"\n",
    "req = requests.get(url)"
   ]
  },
  {
   "cell_type": "code",
   "execution_count": 3,
   "metadata": {},
   "outputs": [],
   "source": [
    "soup = BeautifulSoup(req.content,'html.parser')\n",
    "rows = soup.select('.news-container.archive-result .content .list-item')"
   ]
  },
  {
   "cell_type": "code",
   "execution_count": 4,
   "metadata": {},
   "outputs": [],
   "source": [
    "data = []\n",
    "for row in rows:\n",
    "    d = dict()\n",
    "    d['title'] = row.select_one('.title').text.strip()\n",
    "    d['summary'] = row.select_one('.lead').text.strip()\n",
    "    d['link'] = 'https://www.tasnimnews.com' + row.select_one('a')['href']\n",
    "    data.append(d)"
   ]
  },
  {
   "cell_type": "code",
   "execution_count": 5,
   "metadata": {},
   "outputs": [],
   "source": [
    "with open('data.json','w') as f:\n",
    "    json.dump(data,f)"
   ]
  },
  {
   "cell_type": "code",
   "execution_count": 6,
   "metadata": {},
   "outputs": [
    {
     "data": {
      "text/html": [
       "<div>\n",
       "<style scoped>\n",
       "    .dataframe tbody tr th:only-of-type {\n",
       "        vertical-align: middle;\n",
       "    }\n",
       "\n",
       "    .dataframe tbody tr th {\n",
       "        vertical-align: top;\n",
       "    }\n",
       "\n",
       "    .dataframe thead th {\n",
       "        text-align: right;\n",
       "    }\n",
       "</style>\n",
       "<table border=\"1\" class=\"dataframe\">\n",
       "  <thead>\n",
       "    <tr style=\"text-align: right;\">\n",
       "      <th></th>\n",
       "      <th>title</th>\n",
       "      <th>summary</th>\n",
       "      <th>link</th>\n",
       "    </tr>\n",
       "  </thead>\n",
       "  <tbody>\n",
       "    <tr>\n",
       "      <th>0</th>\n",
       "      <td>خط حزب‌الله ۳۰۰|با مردم و در میان مردم باشید</td>\n",
       "      <td>شماره جدید نشریه \"خط حزب‌الله\" با عنوان \"با مر...</td>\n",
       "      <td>https://www.tasnimnews.com/fa/news/1400/05/15/...</td>\n",
       "    </tr>\n",
       "    <tr>\n",
       "      <th>1</th>\n",
       "      <td>رئیسی در دیدار رئیس اقلیم کردستان عراق: شرایط ...</td>\n",
       "      <td>رئیس جمهور با بیان اینکه سطح تعاملات با عراق و...</td>\n",
       "      <td>https://www.tasnimnews.com/fa/news/1400/05/15/...</td>\n",
       "    </tr>\n",
       "    <tr>\n",
       "      <th>2</th>\n",
       "      <td>تاکید روسای مجالس ایران، آذربایجان و گینه‌بی‌س...</td>\n",
       "      <td>قالیباف رئیس مجلس شورای اسلامی در دیدار با روس...</td>\n",
       "      <td>https://www.tasnimnews.com/fa/news/1400/05/15/...</td>\n",
       "    </tr>\n",
       "    <tr>\n",
       "      <th>3</th>\n",
       "      <td>دیدار رئیس‌جمهور با وزرای خارجه کویت و بنگلادش...</td>\n",
       "      <td>آیت‌الله رئیسی ظهر امروز با وزرای خارجه کشورها...</td>\n",
       "      <td>https://www.tasnimnews.com/fa/news/1400/05/15/...</td>\n",
       "    </tr>\n",
       "    <tr>\n",
       "      <th>4</th>\n",
       "      <td>دیدار رئیسی با روسای مجالس آذربایجان، قرقیزستا...</td>\n",
       "      <td>رئیس‌جمهور با روسای مجالس جمهوری آذربایجان، جم...</td>\n",
       "      <td>https://www.tasnimnews.com/fa/news/1400/05/15/...</td>\n",
       "    </tr>\n",
       "  </tbody>\n",
       "</table>\n",
       "</div>"
      ],
      "text/plain": [
       "                                               title  \\\n",
       "0       خط حزب‌الله ۳۰۰|با مردم و در میان مردم باشید   \n",
       "1  رئیسی در دیدار رئیس اقلیم کردستان عراق: شرایط ...   \n",
       "2  تاکید روسای مجالس ایران، آذربایجان و گینه‌بی‌س...   \n",
       "3  دیدار رئیس‌جمهور با وزرای خارجه کویت و بنگلادش...   \n",
       "4  دیدار رئیسی با روسای مجالس آذربایجان، قرقیزستا...   \n",
       "\n",
       "                                             summary  \\\n",
       "0  شماره جدید نشریه \"خط حزب‌الله\" با عنوان \"با مر...   \n",
       "1  رئیس جمهور با بیان اینکه سطح تعاملات با عراق و...   \n",
       "2  قالیباف رئیس مجلس شورای اسلامی در دیدار با روس...   \n",
       "3  آیت‌الله رئیسی ظهر امروز با وزرای خارجه کشورها...   \n",
       "4  رئیس‌جمهور با روسای مجالس جمهوری آذربایجان، جم...   \n",
       "\n",
       "                                                link  \n",
       "0  https://www.tasnimnews.com/fa/news/1400/05/15/...  \n",
       "1  https://www.tasnimnews.com/fa/news/1400/05/15/...  \n",
       "2  https://www.tasnimnews.com/fa/news/1400/05/15/...  \n",
       "3  https://www.tasnimnews.com/fa/news/1400/05/15/...  \n",
       "4  https://www.tasnimnews.com/fa/news/1400/05/15/...  "
      ]
     },
     "execution_count": 6,
     "metadata": {},
     "output_type": "execute_result"
    }
   ],
   "source": [
    "df = pd.read_json('data.json')\n",
    "df.head()"
   ]
  },
  {
   "cell_type": "code",
   "execution_count": null,
   "metadata": {},
   "outputs": [],
   "source": []
  }
 ],
 "metadata": {
  "interpreter": {
   "hash": "263562e56ecdcef400083858dd31d9856fccb713e0f96a981c2e2fc1fa7b1595"
  },
  "kernelspec": {
   "display_name": "Python 3.9.6 64-bit ('venv': venv)",
   "name": "python3"
  },
  "language_info": {
   "codemirror_mode": {
    "name": "ipython",
    "version": 3
   },
   "file_extension": ".py",
   "mimetype": "text/x-python",
   "name": "python",
   "nbconvert_exporter": "python",
   "pygments_lexer": "ipython3",
   "version": "3.9.6"
  },
  "orig_nbformat": 4
 },
 "nbformat": 4,
 "nbformat_minor": 2
}
